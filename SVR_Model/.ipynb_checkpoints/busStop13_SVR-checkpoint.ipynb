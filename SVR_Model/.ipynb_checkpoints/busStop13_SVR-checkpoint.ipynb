{
 "cells": [
  {
   "cell_type": "code",
   "execution_count": null,
   "metadata": {
    "collapsed": true
   },
   "outputs": [],
   "source": [
    "#This is model predict for\n",
    "##120 Street & Jasper Avenue,Stop#:1646\n",
    "#Author @Lu Yin\n",
    "import pandas\n",
    "from sklearn.svm import SVR\n",
    "import numpy\n",
    "from sklearn.cross_validation import KFold\n",
    "from sklearn import cross_validation\n",
    "\n",
    "def calMAPE(X_test,previousarrvial,Y_test):\n",
    "\tsum_up = 0\n",
    "\tn = 0\n",
    "\tsize = len(X_test)\n",
    "\tfor i in range(size):\n",
    "\t\tif previousarrvial[i] != 0:\n",
    "\t\t\tdiff = result[i] - Y_test[i]\n",
    "\t\t\tdiff = abs(diff)\n",
    "\t\t\tn = n+1\n",
    "\t\t\tsum_up = sum_up + (diff/abs((X_test[i,:1]*17363+53240) + Y_test[i] - previousarrvial[i]))\n",
    "\tMAPE = sum_up/n\n",
    "\tprint(MAPE)\n",
    "\treturn MAPE\n",
    "\t\n",
    "Data = r'/Users/yinlu/Desktop/bustStop/bustStop_13.csv'\n",
    "#split the original extraData into Dif_file which contains y(real difference)\n",
    "#and Previous which contains the arrival_time of previous_bus_stop(used for MAPE)\n",
    "Dif = r'/Users/yinlu/Desktop/ExtraData/extraData_13.csv'\n",
    "\n",
    "X = pandas.read_csv(Data,names = ['a','b','c','d','e','f','g','h','i']);\n",
    "X = X.values\n",
    "Y = pandas.read_csv(Dif,names=['diff','previousarrvial']);\n",
    "Y = Y.values\n",
    "\n",
    "kf = KFold(len(X), n_folds=5)\n",
    "for train, test in kf:\n",
    "\tmapeTotal = 0\n",
    "\t\n",
    "\tX_train, X_test, y_train, y_test = X[train], X[test], Y[train,0], Y[test,0]\n",
    "\tpreviousarrvial = Y[test,1]\n",
    "\t\n",
    "\tnn = SVR(C = 80.0, epsilon = 0.1)\n",
    "\tnn.fit(X_train,y_train)\n",
    "\tresult = nn.predict(X_test);\n",
    "\n",
    "\tthisMape = calMAPE(X_test,previousarrvial,y_test)\n",
    "\tmapeTotal = mapeTotal + thisMape\n",
    "\n",
    "mapeCV = mapeTotal/5;\n",
    "print(\"#####\")\n",
    "print(mapeCV)\n",
    "#[ 0.02352929]\n",
    "\n",
    "\t\n",
    "\n",
    "\n",
    "\n"
   ]
  }
 ],
 "metadata": {
  "kernelspec": {
   "display_name": "Python 2",
   "language": "python",
   "name": "python2"
  },
  "language_info": {
   "codemirror_mode": {
    "name": "ipython",
    "version": 2
   },
   "file_extension": ".py",
   "mimetype": "text/x-python",
   "name": "python",
   "nbconvert_exporter": "python",
   "pygments_lexer": "ipython2",
   "version": "2.7.10"
  }
 },
 "nbformat": 4,
 "nbformat_minor": 0
}
