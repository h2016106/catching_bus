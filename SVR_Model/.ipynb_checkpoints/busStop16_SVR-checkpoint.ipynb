{
 "cells": [
  {
   "cell_type": "code",
   "execution_count": 1,
   "metadata": {
    "collapsed": false
   },
   "outputs": [
    {
     "name": "stdout",
     "output_type": "stream",
     "text": [
      "Cost value\n",
      "1\n",
      "#####\n",
      "[ 0.0136509]\n",
      "Cost value\n",
      "10\n",
      "#####\n",
      "[ 0.00935673]\n",
      "Cost value\n",
      "20\n",
      "#####\n",
      "[ 0.00811825]\n",
      "Cost value\n",
      "50\n",
      "#####\n",
      "[ 0.00723594]\n",
      "Cost value\n",
      "100\n",
      "#####\n",
      "[ 0.00687425]\n",
      "Cost value\n",
      "200\n",
      "#####\n",
      "[ 0.00646269]\n"
     ]
    }
   ],
   "source": [
    "#This is predict model SVR for\n",
    "##118 Street & Jasper Avenue,Stop#:1688\n",
    "#Author @Lu Yin\n",
    "import pandas\n",
    "from sklearn.svm import SVR\n",
    "import numpy\n",
    "from sklearn.cross_validation import KFold\n",
    "from sklearn import cross_validation\n",
    "\n",
    "def calMAPE(X_test,previousarrvial,Y_test):\n",
    "\tsum_up = 0\n",
    "\tn = 0\n",
    "\tsize = len(X_test)\n",
    "\tfor i in range(size):\n",
    "\t\tif previousarrvial[i] != 0:\n",
    "\t\t\tdiff = result[i] - Y_test[i]\n",
    "\t\t\tdiff = abs(diff)\n",
    "\t\t\tn = n+1\n",
    "\t\t\tsum_up = sum_up + (diff/abs((X_test[i,:1]*17363+53240) + Y_test[i] - previousarrvial[i]))\n",
    "\tMAPE = sum_up/n\n",
    "\t#print(MAPE)\n",
    "\treturn MAPE\n",
    "\t\n",
    "Data = r'./../bustStop/bustStop_16.csv'\n",
    "#split the original extraData into Dif_file which contains y(real difference)\n",
    "#and Previous which contains the arrival_time of previous_bus_stop(used for MAPE)\n",
    "Dif = r'./../ExtraData/extraData_16.csv'\n",
    "\n",
    "X = pandas.read_csv(Data,names = ['a','b','c','d','e','f','g','h','i']);\n",
    "X = X.values\n",
    "Y = pandas.read_csv(Dif,names=['diff','previousarrvial']);\n",
    "Y = Y.values\n",
    "\n",
    "kf = KFold(len(X), n_folds=5)\n",
    "\n",
    "for cost in [1,10,20,50,100,200]:\n",
    "\tprint('Cost value')\n",
    "\tprint(cost)\n",
    "\n",
    "\tfor train, test in kf:\n",
    "\t\tmapeTotal = 0\n",
    "\t\tX_train, X_test, y_train, y_test = X[train], X[test], Y[train,0], Y[test,0]\n",
    "\t\tpreviousarrvial = Y[test,1]\n",
    "\t\tnn = SVR(C=cost, epsilon = 0.1)\n",
    "\t\tnn.fit(X_train,y_train)\n",
    "\t\tresult = nn.predict(X_test);\n",
    "\n",
    "\t\tthisMape = calMAPE(X_test,previousarrvial,y_test)\n",
    "\t\tmapeTotal = mapeTotal + thisMape\n",
    "\n",
    "\tmapeCV = mapeTotal/5;\n",
    "\tprint(\"#####\")\n",
    "\tprint(mapeCV)\n",
    "##[ 0.0066474]\n",
    "\n",
    "\n",
    "\t\n",
    "\n",
    "\n",
    "\n"
   ]
  },
  {
   "cell_type": "code",
   "execution_count": null,
   "metadata": {
    "collapsed": true
   },
   "outputs": [],
   "source": []
  }
 ],
 "metadata": {
  "kernelspec": {
   "display_name": "Python 2",
   "language": "python",
   "name": "python2"
  },
  "language_info": {
   "codemirror_mode": {
    "name": "ipython",
    "version": 2
   },
   "file_extension": ".py",
   "mimetype": "text/x-python",
   "name": "python",
   "nbconvert_exporter": "python",
   "pygments_lexer": "ipython2",
   "version": "2.7.10"
  }
 },
 "nbformat": 4,
 "nbformat_minor": 0
}
