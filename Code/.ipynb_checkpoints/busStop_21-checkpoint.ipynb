{
 "cells": [
  {
   "cell_type": "code",
   "execution_count": 3,
   "metadata": {
    "collapsed": false
   },
   "outputs": [
    {
     "name": "stdout",
     "output_type": "stream",
     "text": [
      "1.22580232672\n"
     ]
    }
   ],
   "source": [
    "import pandas as pd;\n",
    "from sknn.mlp import Regressor, Layer;\n",
    "import numpy as np;\n",
    "X_file = r'./../data/busStop/bustStop_21.csv';\n",
    "Y_file = r'./../data/extraData/extraData_21.csv';\n",
    "Previous = r'./../data/MAPE/MAPE_21.csv';\n",
    "X = pd.read_csv(X_file);\n",
    "Y = pd.read_csv(Y_file);\n",
    "MAPE=pd.read_csv(Previous);\n",
    "shape=X.shape;\n",
    "X_train = X.values[0:1200,:];\n",
    "X_test=X.values[1201:shape[0],:]\n",
    "Y_train = Y.values[0:1200,0];\n",
    "Y_test=Y.values[1201:shape[0],0];\n",
    "nn = Regressor(\n",
    "\tlayers=[\n",
    "\t\tLayer(\"Rectifier\", units = 100),\n",
    "\t\tLayer(\"Linear\")],\n",
    "\tlearning_rate = 0.00002,\n",
    "\tn_iter = 10)\n",
    "nn.fit(X_train,Y_train)\n",
    "result = nn.predict(X_test);\n",
    "diff=result.T-Y_test;\n",
    "#print(result);\n",
    "#print(diff);\n",
    "travel=MAPE.values[1201:shape[0],0];\n",
    "#print(travel);\n",
    "mape=diff/travel*100;\n",
    "mean=np.mean(mape);\n",
    "print(1-mean);\n",
    "\n"
   ]
  },
  {
   "cell_type": "code",
   "execution_count": null,
   "metadata": {
    "collapsed": true
   },
   "outputs": [],
   "source": []
  }
 ],
 "metadata": {
  "kernelspec": {
   "display_name": "Python 2",
   "language": "python",
   "name": "python2"
  },
  "language_info": {
   "codemirror_mode": {
    "name": "ipython",
    "version": 2
   },
   "file_extension": ".py",
   "mimetype": "text/x-python",
   "name": "python",
   "nbconvert_exporter": "python",
   "pygments_lexer": "ipython2",
   "version": "2.7.10"
  }
 },
 "nbformat": 4,
 "nbformat_minor": 0
}
