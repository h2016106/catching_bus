{
 "cells": [
  {
   "cell_type": "code",
   "execution_count": 5,
   "metadata": {
    "collapsed": false
   },
   "outputs": [
    {
     "name": "stdout",
     "output_type": "stream",
     "text": [
      "[ 0.98880029]\n"
     ]
    }
   ],
   "source": [
    "import pandas\n",
    "from sknn.mlp import Regressor, Layer\n",
    "import numpy\n",
    "\n",
    "Data = r'./../data/busStop/bustStop_17.csv'\n",
    "#split the original extraData into Dif_file which contains y(real difference)\n",
    "#and Previous which contains the arrival_time of previous_bus_stop(used for MAPE)\n",
    "Dif = r'./../data/extraData/extraData_17.csv'\n",
    "#mu = r'/Users/jackwang/Downloads/mu_15.csv'\n",
    "#sigma = r'/Users/jackwang/Downloads/sigma_15.csv'\n",
    "X = pandas.read_csv(Data);\n",
    "X_test = X.ix[1:299.:]\n",
    "X = X.ix[300:,:]\n",
    "X = X.values\n",
    "X_test = X_test.values\n",
    "Y = pandas.read_csv(Dif);\n",
    "Y_test = Y.ix[1:299,:1]\n",
    "previousarrvial = Y.ix[1:299,1:]\n",
    "Y = Y.ix[300:,:1]\n",
    "Y = Y.values\n",
    "Y_test = Y_test.values\n",
    "previousarrvial = previousarrvial.values\n",
    "#print(previousarrvial)\n",
    "#mu = pandas.read_csv(mu);\n",
    "#mu = mu.values\n",
    "#sigma = pandas.read_csv(sigma);\n",
    "#sigma = sigma.values\n",
    "#print(sigma)\n",
    "#print Y\n",
    "#test = Test.values\n",
    "#print \"row 1=\", test[1]\n",
    "nn = Regressor(\n",
    "\tlayers=[\n",
    "\t\tLayer(\"Sigmoid\", units = 100),\n",
    "\t\tLayer(\"Linear\")],\n",
    "\tlearning_rate = 0.01,\n",
    "\tn_iter = 820)\n",
    "nn.fit(X,Y)\n",
    "#print test\n",
    "#t=test[1:3]\n",
    "#print t\n",
    "result = nn.predict(X_test);\n",
    "#t=test[3:4]\n",
    "#print t\n",
    "#result = nn.predict(t)\n",
    "#print(result)\n",
    "#--------------Need to implement-----------\n",
    "#\n",
    "#\n",
    "sum_up = 0\n",
    "n = 0\n",
    "size = len(X_test)\n",
    "for i in range(size):\n",
    "\tif previousarrvial[i] != 0:\n",
    "\t\tdiff = result[i] - Y_test[i]\n",
    "\t\tdiff = abs(diff)\n",
    "\t\tn = n+1\n",
    "\t\tsum_up = sum_up + (diff/abs((X_test[i,:1]*16594+55978) + Y_test[i] - previousarrvial[i]))\n",
    "MAPE = sum_up/n\n",
    "print(1-MAPE)\n",
    "#\n"
   ]
  },
  {
   "cell_type": "code",
   "execution_count": null,
   "metadata": {
    "collapsed": true
   },
   "outputs": [],
   "source": []
  }
 ],
 "metadata": {
  "kernelspec": {
   "display_name": "Python 2",
   "language": "python",
   "name": "python2"
  },
  "language_info": {
   "codemirror_mode": {
    "name": "ipython",
    "version": 2
   },
   "file_extension": ".py",
   "mimetype": "text/x-python",
   "name": "python",
   "nbconvert_exporter": "python",
   "pygments_lexer": "ipython2",
   "version": "2.7.10"
  }
 },
 "nbformat": 4,
 "nbformat_minor": 0
}
