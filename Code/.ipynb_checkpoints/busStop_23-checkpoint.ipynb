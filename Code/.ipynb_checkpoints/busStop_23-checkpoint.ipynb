{
 "cells": [
  {
   "cell_type": "code",
   "execution_count": 4,
   "metadata": {
    "collapsed": false
   },
   "outputs": [
    {
     "ename": "NameError",
     "evalue": "name 'Mape' is not defined",
     "output_type": "error",
     "traceback": [
      "\u001b[1;31m---------------------------------------------------------------------------\u001b[0m",
      "\u001b[1;31mNameError\u001b[0m                                 Traceback (most recent call last)",
      "\u001b[1;32m<ipython-input-4-685126ff8875>\u001b[0m in \u001b[0;36m<module>\u001b[1;34m()\u001b[0m\n\u001b[0;32m     24\u001b[0m \u001b[1;31m#print previousarrvial\u001b[0m\u001b[1;33m\u001b[0m\u001b[1;33m\u001b[0m\u001b[0m\n\u001b[0;32m     25\u001b[0m \u001b[1;31m#print previousarrvial[2]\u001b[0m\u001b[1;33m\u001b[0m\u001b[1;33m\u001b[0m\u001b[0m\n\u001b[1;32m---> 26\u001b[1;33m \u001b[0mtempM\u001b[0m \u001b[1;33m=\u001b[0m \u001b[0mpandas\u001b[0m\u001b[1;33m.\u001b[0m\u001b[0mread_csv\u001b[0m\u001b[1;33m(\u001b[0m\u001b[0mMape\u001b[0m\u001b[1;33m)\u001b[0m\u001b[1;33m\u001b[0m\u001b[0m\n\u001b[0m\u001b[0;32m     27\u001b[0m \u001b[0mMAPE\u001b[0m \u001b[1;33m=\u001b[0m \u001b[0mtempM\u001b[0m\u001b[1;33m.\u001b[0m\u001b[0mvalues\u001b[0m\u001b[1;33m\u001b[0m\u001b[0m\n\u001b[0;32m     28\u001b[0m nn = Regressor(\n",
      "\u001b[1;31mNameError\u001b[0m: name 'Mape' is not defined"
     ]
    }
   ],
   "source": [
    "import pandas\n",
    "from sknn.mlp import Regressor, Layer\n",
    "import numpy\n",
    "\n",
    "Data = r'./../data/busStop/bustStop_23.csv'\n",
    "#split the original extraData into Dif_file which contains y(real difference)\n",
    "#and Previous which contains the arrival_time of previous_bus_stop(used for MAPE)\n",
    "Dif = r'./../data/extraData/extraData_23.csv'\n",
    "X = pandas.read_csv(Data);\n",
    "X_test = X\n",
    "X = X\n",
    "X = X.values\n",
    "X_test = X_test.values\n",
    "Y = pandas.read_csv(Dif);\n",
    "#print Y\n",
    "Y_test = Y.ix[:,:1]\n",
    "Y_test = Y_test.values\n",
    "#print \"123\",Y_test[1]\n",
    "previousarrvial = Y.ix[:,1:]\n",
    "Y = Y.ix[:,:1]\n",
    "Y = Y.values\n",
    "\n",
    "previousarrvial = previousarrvial.values\n",
    "#print previousarrvial \n",
    "#print previousarrvial[2]\n",
    "#tempM = pandas.read_csv(Mape)\n",
    "#MAPE = tempM.values\n",
    "nn = Regressor(\n",
    "\tlayers=[\n",
    "\t\tLayer(\"Rectifier\", units = 100),\n",
    "\t\tLayer(\"Linear\")],\n",
    "\tlearning_rate = 0.00001,\n",
    "\tn_iter = 100)\n",
    "nn.fit(X,Y)\n",
    "result = nn.predict(X_test);\n",
    "sum_up = 0\n",
    "n = 0\n",
    "size = len(X_test)\n",
    "for i in range(size):\n",
    "\tif (previousarrvial[i]!=0):\n",
    "\t\t#print \"Y=\",Y_test[i],\"Re=\",result[i]\n",
    "\t\tdiff = Y_test[i]-result[i]\n",
    "\t\tdiff = abs(diff)\n",
    "\t\tn = n+1\n",
    "\t\tsum_up = sum_up + (diff/abs((X_test[i,:1]*17363+53240) + Y_test[i] - previousarrvial[i]))\n",
    "MAPE = sum_up/n\n",
    "#print sum_up\n",
    "#print n\n",
    "print (1-MAPE)\n",
    "#\n"
   ]
  },
  {
   "cell_type": "code",
   "execution_count": null,
   "metadata": {
    "collapsed": true
   },
   "outputs": [],
   "source": []
  }
 ],
 "metadata": {
  "kernelspec": {
   "display_name": "Python 2",
   "language": "python",
   "name": "python2"
  },
  "language_info": {
   "codemirror_mode": {
    "name": "ipython",
    "version": 2
   },
   "file_extension": ".py",
   "mimetype": "text/x-python",
   "name": "python",
   "nbconvert_exporter": "python",
   "pygments_lexer": "ipython2",
   "version": "2.7.10"
  }
 },
 "nbformat": 4,
 "nbformat_minor": 0
}
