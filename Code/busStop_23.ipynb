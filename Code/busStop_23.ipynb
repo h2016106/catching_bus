{
 "cells": [
  {
   "cell_type": "code",
   "execution_count": 5,
   "metadata": {
    "collapsed": false
   },
   "outputs": [
    {
     "name": "stdout",
     "output_type": "stream",
     "text": [
      "[ 0.9876635]\n"
     ]
    }
   ],
   "source": [
    "import pandas\n",
    "from sknn.mlp import Regressor, Layer\n",
    "import numpy\n",
    "\n",
    "Data = r'./../data/busStop/bustStop_23.csv'\n",
    "#split the original extraData into Dif_file which contains y(real difference)\n",
    "#and Previous which contains the arrival_time of previous_bus_stop(used for MAPE)\n",
    "Dif = r'./../data/extraData/extraData_23.csv'\n",
    "X = pandas.read_csv(Data);\n",
    "X_test = X\n",
    "X = X\n",
    "X = X.values\n",
    "X_test = X_test.values\n",
    "Y = pandas.read_csv(Dif);\n",
    "#print Y\n",
    "Y_test = Y.ix[:,:1]\n",
    "Y_test = Y_test.values\n",
    "#print \"123\",Y_test[1]\n",
    "previousarrvial = Y.ix[:,1:]\n",
    "Y = Y.ix[:,:1]\n",
    "Y = Y.values\n",
    "\n",
    "previousarrvial = previousarrvial.values\n",
    "#print previousarrvial \n",
    "#print previousarrvial[2]\n",
    "#tempM = pandas.read_csv(Mape)\n",
    "#MAPE = tempM.values\n",
    "nn = Regressor(\n",
    "\tlayers=[\n",
    "\t\tLayer(\"Rectifier\", units = 100),\n",
    "\t\tLayer(\"Linear\")],\n",
    "\tlearning_rate = 0.00001,\n",
    "\tn_iter = 100)\n",
    "nn.fit(X,Y)\n",
    "result = nn.predict(X_test);\n",
    "sum_up = 0\n",
    "n = 0\n",
    "size = len(X_test)\n",
    "for i in range(size):\n",
    "\tif (previousarrvial[i]!=0):\n",
    "\t\t#print \"Y=\",Y_test[i],\"Re=\",result[i]\n",
    "\t\tdiff = Y_test[i]-result[i]\n",
    "\t\tdiff = abs(diff)\n",
    "\t\tn = n+1\n",
    "\t\tsum_up = sum_up + (diff/abs((X_test[i,:1]*17363+53240) + Y_test[i] - previousarrvial[i]))\n",
    "MAPE = sum_up/n\n",
    "#print sum_up\n",
    "#print n\n",
    "print (1-MAPE)\n",
    "#\n"
   ]
  },
  {
   "cell_type": "code",
   "execution_count": null,
   "metadata": {
    "collapsed": true
   },
   "outputs": [],
   "source": []
  }
 ],
 "metadata": {
  "kernelspec": {
   "display_name": "Python 2",
   "language": "python",
   "name": "python2"
  },
  "language_info": {
   "codemirror_mode": {
    "name": "ipython",
    "version": 2
   },
   "file_extension": ".py",
   "mimetype": "text/x-python",
   "name": "python",
   "nbconvert_exporter": "python",
   "pygments_lexer": "ipython2",
   "version": "2.7.10"
  }
 },
 "nbformat": 4,
 "nbformat_minor": 0
}
