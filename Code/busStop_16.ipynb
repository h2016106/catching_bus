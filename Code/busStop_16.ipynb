{
 "cells": [
  {
   "cell_type": "code",
   "execution_count": 3,
   "metadata": {
    "collapsed": false
   },
   "outputs": [
    {
     "name": "stdout",
     "output_type": "stream",
     "text": [
      "mape: \n",
      "[ 0.98342033]\n"
     ]
    }
   ],
   "source": [
    "#This is predict model for\n",
    "##118 Street & Jasper Avenue,Stop#:1688\n",
    "#Author @Lu Yin\n",
    "import pandas as pd\n",
    "import math\n",
    "from sklearn import svm\n",
    "#import numpy as np\n",
    "#from sklearn.neural_network import MLPRegressor\n",
    "from sknn.mlp import Regressor, Layer\n",
    "\n",
    "## ipython how to get the location of cvs file????\n",
    "Train =  r'./../data/busStop/bustStop_16.csv'\n",
    "Target = r'./../data/extraData/extraData_16.csv'\n",
    "#divPath = r'./../data/MAPE/MAPE_16.csv'\n",
    "df = pd.read_csv(Train)\n",
    "# names=['schedule', 'busDelay','stopDelay','Mon','Tue','Wed','Thu','Fri','Sat','Sun','Sunny','Rainy','Snowy']\n",
    "diff = pd.read_csv(Target,names=['diff','schedule'])\n",
    "#div = pd.read_csv(divPath)\n",
    "#if math.isnan(df['diff']): df.diff = 0\n",
    "#df = df[pd.notnull(df['diff'])]\n",
    "#print(df);\n",
    "## small example.\n",
    "X = df[1:1300].values\n",
    "y = diff[1:1300]['diff'].values\n",
    "#print(X)\n",
    "#print(y)\n",
    "Xtest = df[1300:1377].values;\n",
    "yTarget = diff[1300:1377]['diff'].values;\n",
    "previousarrvial = diff[1800:1898]['schedule'].values\n",
    "meanDiv = div[1300:1377].values\n",
    "\n",
    "nn = Regressor(\n",
    "    layers=[\n",
    "        Layer(\"Rectifier\", units=100),\n",
    "        Layer(\"Linear\")],\n",
    "    learning_rate=0.00001,\n",
    "    n_iter=100)\n",
    "nn.fit(X, y)\n",
    "\n",
    "result =  nn.predict(Xtest);\n",
    "\n",
    "#print(result);\n",
    "\n",
    "\n",
    "\n",
    "#calculate accuracy\n",
    "#m = size_of(Xtest)\n",
    "mape = 0\n",
    "sum_up=0\n",
    "for i in range(len(result)):\n",
    "\t#print(\"#####\")\n",
    "\t#print i \n",
    "\t#print(\"  \")\n",
    "\t#print(result[i])\n",
    "\t#print(\"  \")\n",
    "\t#print(yTarget[i])\n",
    "\tdiffff = abs(result[i]-yTarget[i])\n",
    "\t#print(diffff)\n",
    "\t\n",
    "\tsum_up = sum_up + (diffff/abs((Xtest[i,:1]*17617+53661) + yTarget[i] - previousarrvial[i]))\n",
    "    \n",
    "n=len(result)\t\n",
    "mape = sum_up/n\n",
    "print(\"mape: \")\n",
    "print(1-mape)\n",
    "\n",
    "## output result mape: [ 169.35497708]\n",
    "\n",
    "\n",
    "\n",
    "##120 Street & Jasper Avenue,Stop#:1646"
   ]
  },
  {
   "cell_type": "code",
   "execution_count": null,
   "metadata": {
    "collapsed": true
   },
   "outputs": [],
   "source": []
  }
 ],
 "metadata": {
  "kernelspec": {
   "display_name": "Python 2",
   "language": "python",
   "name": "python2"
  },
  "language_info": {
   "codemirror_mode": {
    "name": "ipython",
    "version": 2
   },
   "file_extension": ".py",
   "mimetype": "text/x-python",
   "name": "python",
   "nbconvert_exporter": "python",
   "pygments_lexer": "ipython2",
   "version": "2.7.10"
  }
 },
 "nbformat": 4,
 "nbformat_minor": 0
}
